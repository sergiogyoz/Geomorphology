{
 "cells": [
  {
   "attachments": {},
   "cell_type": "markdown",
   "metadata": {},
   "source": [
    "## class notes"
   ]
  },
  {
   "attachments": {},
   "cell_type": "markdown",
   "metadata": {},
   "source": [
    "### Hillslope model using linear diffusion\n",
    "\n",
    "We want to describe our elevation $z$ as a function of downhill distance $x$, that is we want $z=f(x)$. We start with the linear equation relating sediment flux $q_s$ and the slope $S$ by the diffusivity coefficient $K_d$:\n",
    "\n",
    "$$\n",
    "q_s=K_dS\n",
    "$$\n",
    "\n",
    "Recalling that \n",
    "\n",
    "$$\n",
    "S=-\\frac{dz}{dx}, \\qquad \\text{Curvature}=-\\frac{dS}{dx}=\\frac{d^2z}{dx}.\n",
    "$$\n",
    "\n",
    "then substituting $S$ we get \n",
    "\n",
    "$$\n",
    "q_s=-K_d\\frac{dz}{dx}\n",
    "$$"
   ]
  },
  {
   "attachments": {},
   "cell_type": "markdown",
   "metadata": {},
   "source": [
    "### Mass balance equation (Exner equation)\n",
    "\n",
    "We now use the mass balance equation \n",
    "\n",
    "$$\n",
    "\\frac{dz}{dt}=-\\frac{dq_s}{dx}.\n",
    "$$\n",
    "\n",
    "The left side of the equation represents \"The change in elevation with respect to time\" and the right side represents \"the change in the sediment flux as we go downhill\". The equation is then saying \"the ammount of sediment being deposited or eroded (elevation change) depends on how much sediment is going in and out of a specific location (change in sediment flux)\"."
   ]
  },
  {
   "attachments": {},
   "cell_type": "markdown",
   "metadata": {},
   "source": [
    "### Putting those 2 together\n",
    "\n",
    "Now putting $q_s$ from the first equation into the mass balance equation we get\n",
    "\n",
    "$$\n",
    "\\frac{dz}{dt}=-\\frac{dq_s}{dx}=-\\frac{d\\left( -K_d\\frac{dz}{dx} \\right)}{dx}= \\frac{d\\left( K_d\\frac{dz}{dx} \\right)}{dx}\n",
    "$$\n",
    "so \n",
    "$$\n",
    "\\frac{dz}{dt}=\\frac{d\\left( K_d\\frac{dz}{dx} \\right)}{dx}\n",
    "$$\n",
    "now we start making assumptions to solve/simplify this equation."
   ]
  },
  {
   "attachments": {},
   "cell_type": "markdown",
   "metadata": {},
   "source": [
    "### Solving\n",
    "\n",
    "1. We assume that the diffusivity coefficient is constant, and so the right side becomes\n",
    "\n",
    "$$\n",
    "\\frac{d\\left( K_d\\frac{dz}{dx} \\right)}{dx}\n",
    "=K_d\\frac{d\\left( \\frac{dz}{dx} \\right)}{dx}\n",
    "=K_d\\frac{d^2z}{dx^2}\n",
    "$$\n",
    "\n",
    "2. Next we assume that the erosion rate ( $\\varepsilon$ ) is constant in time and space, namely the left side becomes\n",
    "$$\n",
    "\\frac{dz}{dt}=-\\varepsilon\n",
    "$$\n",
    "3. Equating the two we get\n",
    "\n",
    "$$\n",
    "K_d\\frac{d^2z}{dx^2}=-\\varepsilon\n",
    "$$\n",
    "or \n",
    "\n",
    "$$\n",
    "\\frac{d^2z}{dx^2}=-\\frac{\\varepsilon}{K_d}\n",
    "$$\n",
    "\n",
    "4. integrate once...\n",
    "\n",
    "$$\n",
    "\\begin{align*}\n",
    "\\int_0^x \\frac{d^2z}{dx^2}\\ dx &=\\int_0^x -\\frac{\\varepsilon}{K_d}\\ dx \\\\\n",
    "\\frac{dz}{dx} - S_0 &= -\\frac{\\varepsilon}{K_d} x \\\\\n",
    "\\end{align*}\n",
    "$$\n",
    "\n",
    "so \n",
    "\n",
    "$$\n",
    "\\frac{dz}{dx} = -\\frac{\\varepsilon}{K_d} x + S_0\n",
    "$$\n",
    "\n",
    "5. and then a second time to get the solution \n",
    "\n",
    "$$\n",
    "\\begin{align*}\n",
    "\\int_0^x \\frac{dz}{dx}\\ dx &= \\int_0^x -\\frac{\\varepsilon}{K_d} x + S_0\\ dx \\\\\n",
    "z-z_0 &= -\\frac{\\varepsilon}{K_d} \\frac{x^2}{2} + S_0x \n",
    "\\end{align*}\n",
    "$$\n",
    "\n",
    "so \n",
    "\n",
    "$$\n",
    "z = -\\frac{\\varepsilon}{K_d} \\frac{x^2}{2} + S_0x + z_0\n",
    "$$\n",
    "\n",
    "\n",
    "6. To further simplify we assume the top of the hillslope is flat so we have the boundary condition $S_0=\\frac{dz}{dx}=0$ (0 slope) at $x=0$ (top of the hill) so then \n",
    "\n",
    "$$\n",
    "z = z_0 -\\frac{\\varepsilon}{K_d} \\frac{x^2}{2}\n",
    "$$"
   ]
  },
  {
   "attachments": {},
   "cell_type": "markdown",
   "metadata": {},
   "source": [
    "### how does the solution look like?\n",
    "\n",
    "It looks like a parabola upside down since it's negative $x^2$, for example, assuming the top of the hill is $z_0=10$, and the difussivity coefficient $K_d=2$ and the erosion rate $\\varepsilon=2$ then it looks like"
   ]
  },
  {
   "cell_type": "code",
   "execution_count": 6,
   "metadata": {},
   "outputs": [
    {
     "data": {
      "image/png": "[encoded data removed]",
      "text/plain": [
       "<Figure size 360x360 with 1 Axes>"
      ]
     },
     "metadata": {
      "needs_background": "light"
     },
     "output_type": "display_data"
    }
   ],
   "source": [
    "import matplotlib.pyplot as plt\n",
    "import numpy as np\n",
    "\n",
    "z0=10\n",
    "eps=2\n",
    "Kd=2\n",
    "x = np.arange(0,3,0.1)\n",
    "z = z0-(eps/Kd)*(x**2/2)\n",
    "plt.plot(x,z)\n",
    "plt.xlabel(\"downhill distance\")\n",
    "plt.ylabel(\"elevation\")\n",
    "plt.gcf().set_size_inches(5,5)\n"
   ]
  },
  {
   "attachments": {},
   "cell_type": "markdown",
   "metadata": {},
   "source": [
    "### Jupyter notebook quick tutorial\n",
    "We also did a quick jupyter notebook tutorial and ran some code from the the jupyter CSDMS hub. A couple of important notes are:\n",
    "- To get the latest version of the repository (files and folders) click on the link sent by Nicole (email link)\n",
    "- We are looking at the `hillslope_diffusion_class_notebook.ipynb` file, try to run each of the cells.\n",
    "- For a quick reference on how to use a jupyter notebook I made a small intro tutorial to everything [here](https://github.com/sergiogyoz/JupyterNB_stats_fall_2021/blob/main/Intro%20to%20everything.ipynb) that you can use or just look at resources online."
   ]
  }
 ],
 "metadata": {
  "kernelspec": {
   "display_name": "landlab_dev",
   "language": "python",
   "name": "python3"
  },
  "language_info": {
   "codemirror_mode": {
    "name": "ipython",
    "version": 3
   },
   "file_extension": ".py",
   "mimetype": "text/x-python",
   "name": "python",
   "nbconvert_exporter": "python",
   "pygments_lexer": "ipython3",
   "version": "3.10.5"
  },
  "orig_nbformat": 4,
  "vscode": {
   "interpreter": {
    "hash": "f4724234ee333a7c64c553bb8a9c451b12cbf7110166dc056f546fce6cc06ec5"
   }
  }
 },
 "nbformat": 4,
 "nbformat_minor": 2
}
