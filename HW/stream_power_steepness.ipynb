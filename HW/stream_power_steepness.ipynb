{
 "cells": [
  {
   "attachments": {},
   "cell_type": "markdown",
   "metadata": {},
   "source": [
    "# Stream power, channel steepness, and relief HW"
   ]
  },
  {
   "attachments": {},
   "cell_type": "markdown",
   "metadata": {},
   "source": [
    "### From the original notebook\n",
    "The equation at hand\n",
    "$$\n",
    "\\begin{equation}\n",
    " \\frac{d z}{d t} = -K_\\text{sp} A^{m_{sp}} S^{n_{sp}} + U\n",
    "\\end{equation}\n",
    "$$\n",
    "Here, $K_{sp}$ is the erodibility coefficient on fluvial incision, which is thought to be positively correlated with climate wetness, or storminess (this is hard to quantify) and to be negatively correlated with rock strength (again, rock strength is hard to quantify). $m_{sp}$ and $n_{sp}$ are positive exponents, usually thought to have a ratio, $m_{sp}/n_{sp} \\approx 0.5$. $A$ is drainage area and $S$ is the slope of steepest descent ($-\\frac{dz}{dx}$) where $x$ is horizontal distance (positive in the downslope direction) and $z$ is elevation. (If slope is negative there is no fluvial erosion.) $U$ is an externally-applied rock uplift rate field.\n",
    "\n",
    "The fluvial erosion term is also known as the stream power equation. Before using this notebook you should be familiar with this equation from class lectures and reading. \n",
    "\n",
    "**STUDENTS: Questions to answer before starting this assignment.**\n",
    "\n",
    "Answer these questions before running the notebook."
   ]
  },
  {
   "attachments": {},
   "cell_type": "markdown",
   "metadata": {},
   "source": [
    "1. What do you think will happen to total relief (defined as the maximum minus the minimum elevation, here area is fixed) and channel slope at steady state if $K_{sp}$ is uniformly increased?\n",
    "\n",
    "*Since at steady state*\n",
    "$$\n",
    "U = K_\\text{sp} A^{m_{sp}} S^{n_{sp}}\n",
    "$$\n",
    "*where $U, A, m_{sp}, n_{sp}$ are constant and the only variables allowed to change are $K_\\text{sp}$ and $S$, then to keep the equation balanced if we increase $K_\\text{sp}$ the value of $S$ should decrease, and therefore we will get less relief.* \n",
    "\n",
    "\n",
    "2. What do you think will happen to total relief and channel slope at steady state if $U$ is uniformly increased?\n",
    "\n",
    "*Using a similar logic if $K_\\text{sp}$ is now constant and we increase $U$ then the value of $S$ should increase to mantain balance, meaning that the relief is likely to go up.*"
   ]
  },
  {
   "attachments": {},
   "cell_type": "markdown",
   "metadata": {},
   "source": [
    "### I addapted the code to make it more comfortable to me"
   ]
  },
  {
   "cell_type": "code",
   "execution_count": null,
   "metadata": {},
   "outputs": [],
   "source": [
    "# imports\n",
    "import numpy as np\n",
    "from matplotlib import pyplot as plt\n",
    "\n",
    "from landlab import RasterModelGrid, imshow_grid\n",
    "from landlab.components import (\n",
    "    ChannelProfiler,\n",
    "    ChiFinder,\n",
    "    FlowAccumulator,\n",
    "    SteepnessFinder,\n",
    "    StreamPowerEroder,\n",
    ")\n",
    "from landlab.io import write_esri_ascii"
   ]
  },
  {
   "cell_type": "code",
   "execution_count": null,
   "metadata": {},
   "outputs": [],
   "source": [
    "# global parameters\n",
    "params = { \"timer\":0 }\n",
    "raster = 0"
   ]
  },
  {
   "cell_type": "code",
   "execution_count": null,
   "metadata": {},
   "outputs": [],
   "source": [
    "# set parameters function\n",
    "def set_params( tmax=1e6, uplift_rate = 0.0001, **kwargs):\n",
    "    \"\"\"set some parameters. All parameters can be set by passing the **kwargs if needed\"\"\"\n",
    "    params[\"rows\"] = 100\n",
    "    params[\"columns\"] = 100\n",
    "    params[\"dxy\"] = 100\n",
    "    params[\"timer\"] = 0\n",
    "    params[\"tmax\"] = tmax\n",
    "    params[\"uplift_rate\"] = uplift_rate\n",
    "    params[\"dt\"] = 5000\n",
    "    params[\"tmax\"] = tmax\n",
    "    params[\"K_sp\"] = 1.0e-5\n",
    "    params[\"m_sp\"] = 0.5\n",
    "    params[\"n_sp\"] = 1.0\n",
    "    if kwargs:\n",
    "        print(\"additional parameters passed\")\n",
    "        for key in kwargs:\n",
    "            params[key]=kwargs[key]\n",
    "    params[\"times\"] = len(np.arange(0, tmax, params[\"dt\"]))\n",
    "# run at least once\n",
    "set_params()"
   ]
  },
  {
   "cell_type": "code",
   "execution_count": null,
   "metadata": {},
   "outputs": [],
   "source": [
    "# reset grid, flow route tools, eroder and all landlab tools\n",
    "def reset_grid():\n",
    "    \"\"\"\n",
    "    reset grid, flow route tools, eroder and all landlab tools.\n",
    "    \n",
    "    Returns the raster and the associated topography, flow_router, stream_eroder,steep_finder,chi_finder \n",
    "    \"\"\"\n",
    "    raster = RasterModelGrid((params[\"rows\"], params[\"columns\"]), params[\"dxy\"])\n",
    "    raster.set_closed_boundaries_at_grid_edges(True, True, True, False)\n",
    "    np.random.seed(77)\n",
    "    noise = np.random.rand(raster.number_of_nodes) / 1000.0\n",
    "    topography = raster.add_zeros(\"topographic__elevation\", at=\"node\")\n",
    "    topography += noise\n",
    "    flow_router = FlowAccumulator(raster, flow_director='FlowDirectorD8')\n",
    "    stream_eroder = StreamPowerEroder(raster, K_sp=params[\"K_sp\"], \n",
    "                            m_sp=params[\"m_sp\"], n_sp=params[\"n_sp\"],\n",
    "                            threshold_sp=0.0)\n",
    "    params[\"theta\"] = params[\"m_sp\"] / params[\"n_sp\"]\n",
    "    steep_finder = SteepnessFinder(raster, reference_concavity=params[\"theta\"], min_drainage_area=1000.0)\n",
    "    chi_finder = ChiFinder(raster,\n",
    "                min_drainage_area=1000.0,\n",
    "                reference_concavity=params[\"theta\"],\n",
    "                use_true_dx=True)\n",
    "    return (raster, topography, flow_router, stream_eroder, steep_finder, chi_finder)\n",
    "# run at least once\n",
    "raster, z, frr, spr, sf, cf = reset_grid()\n",
    "\n",
    "def channel_profiler():\n",
    "    return ChannelProfiler(raster,\n",
    "                      number_of_watersheds=3,\n",
    "                      main_channel_only=True,\n",
    "                      minimum_channel_threshold=params[\"dxy\"]**2)"
   ]
  },
  {
   "cell_type": "code",
   "execution_count": null,
   "metadata": {
    "scrolled": true
   },
   "outputs": [],
   "source": [
    "# Evolve the system\n",
    "def evolve(time = 0, omit_times = True):\n",
    "    if (\"times\" in params.keys()) and (not time):\n",
    "        time = params[\"times\"]\n",
    "    for ti in range(time):\n",
    "        uplift = np.ones(raster.number_of_nodes) * params[\"uplift_rate\"]\n",
    "        z[raster.core_nodes] += uplift[raster.core_nodes] * params[\"dt\"]\n",
    "        frr.run_one_step()\n",
    "        spr.run_one_step(params[\"dt\"])\n",
    "        params[\"timer\"] += params[\"dt\"]\n",
    "        if not omit_times:\n",
    "            print(params[\"timer\"])\n",
    "    print(params[\"timer\"])"
   ]
  },
  {
   "cell_type": "code",
   "execution_count": null,
   "metadata": {},
   "outputs": [],
   "source": [
    "# plotting functions\n",
    "def plot_topography():\n",
    "    plt.figure()\n",
    "    imshow_grid(raster,\n",
    "                \"topographic__elevation\",\n",
    "                grid_units=(\"m\", \"m\"),\n",
    "                var_name=\"Elevation (m)\")\n",
    "    title_text = f'K_{{sp}}={params[\"K_sp\"]}; U={params[\"uplift_rate\"]*1000} mm/yr; time={params[\"timer\"]/1000} kyr'\n",
    "    plt.title(title_text)\n",
    "    max_elev = np.max(z)\n",
    "    print(\"Maximum elevation is \", np.max(z))\n",
    "\n",
    "def plot_slopes_area():\n",
    "    plt.figure()\n",
    "    plt.loglog(\n",
    "        raster.at_node[\"drainage_area\"][np.where(raster.node_y[raster.core_nodes]>200)],\n",
    "        raster.at_node[\"topographic__steepest_slope\"][np.where(raster.node_y[raster.core_nodes]>200)],\n",
    "        \"b.\",\n",
    "    )\n",
    "    plt.ylabel(\"Topographic slope\")\n",
    "    plt.xlabel(\"Drainage area (m^2)\")\n",
    "    title_text = f'$K_{{sp}}$={params[\"K_sp\"]}; $U$={params[\"uplift_rate\"]*1000} mm/yr; $time$={params[\"timer\"]/1000} kyr'\n",
    "\n",
    "    plt.title(title_text)\n",
    "\n",
    "def plot_profiles(channel_profiler):\n",
    "    plt.figure()\n",
    "    title_text = f'$K_{{sp}}$={params[\"K_sp\"]}; $U$={params[\"uplift_rate\"]*1000} mm/yr; $time$={params[\"timer\"]/1000} kyr'\n",
    "    channel_profiler.plot_profiles(xlabel='distance upstream (m)',\n",
    "                    ylabel='elevation (m)',\n",
    "                    title=title_text)\n",
    "    ax=plt.gca()\n",
    "    ax.invert_xaxis()\n",
    "\n",
    "    plt.figure()\n",
    "    channel_profiler.plot_profiles_in_map_view()\n",
    "\n",
    "    # slope-area data in just the profiled channels\n",
    "    plt.figure()\n",
    "    for i, outlet_id in enumerate(channel_profiler.data_structure):\n",
    "        for j, segment_id in enumerate(channel_profiler.data_structure[outlet_id]):\n",
    "            if j == 0:\n",
    "                label = \"channel {i}\".format(i=i + 1)\n",
    "            else:\n",
    "                label = '_nolegend_'\n",
    "            segment = channel_profiler.data_structure[outlet_id][segment_id]\n",
    "            profile_ids = segment[\"ids\"]\n",
    "            color = segment[\"color\"]\n",
    "            plt.loglog(\n",
    "                raster.at_node[\"drainage_area\"][profile_ids],\n",
    "                raster.at_node[\"topographic__steepest_slope\"][profile_ids],\n",
    "                '.',\n",
    "                color=color,\n",
    "                label=label,\n",
    "            )\n",
    "\n",
    "    plt.legend(loc=\"lower left\")\n",
    "    plt.xlabel(\"drainage area (m^2)\")\n",
    "    plt.ylabel(\"channel slope [m/m]\")\n",
    "    title_text = f'$K_{{sp}}$={params[\"K_sp\"]}; $U$={params[\"uplift_rate\"]*1000} mm/yr; $time$={params[\"timer\"]/1000} kyr'\n",
    "    plt.title(title_text)\n",
    "\n",
    "def plot_chi(channel_profiler):\n",
    "    cf.calculate_chi()\n",
    "\n",
    "    # # chi-elevation plots in the profiled channels\n",
    "    plt.figure()\n",
    "\n",
    "    for i, outlet_id in enumerate(channel_profiler.data_structure):\n",
    "        for j, segment_id in enumerate(channel_profiler.data_structure[outlet_id]):\n",
    "            if j == 0:\n",
    "                label = \"channel {i}\".format(i=i + 1)\n",
    "            else:\n",
    "                label = '_nolegend_'\n",
    "            segment = channel_profiler.data_structure[outlet_id][segment_id]\n",
    "            profile_ids = segment[\"ids\"]\n",
    "            color = segment[\"color\"]\n",
    "            plt.plot(\n",
    "                raster.at_node[\"channel__chi_index\"][profile_ids],\n",
    "                raster.at_node[\"topographic__elevation\"][profile_ids],\n",
    "                color=color,\n",
    "                label=label,\n",
    "            )\n",
    "\n",
    "    ax=plt.gca()\n",
    "    ax.invert_xaxis()\n",
    "    plt.xlabel(\"chi index (m)\")\n",
    "    plt.ylabel(\"elevation (m)\")\n",
    "    plt.legend(loc=\"upper right\")\n",
    "    title_text = f'$K_{{sp}}$={params[\"K_sp\"]}; $U$={params[\"uplift_rate\"]} m/yr; $time$={params[\"timer\"]/1000} kyr; concavity={params[\"m_sp\"]/params[\"n_sp\"]}'\n",
    "    plt.title(title_text)\n",
    "\n",
    "    # chi map\n",
    "    plt.figure()\n",
    "    imshow_grid(\n",
    "        raster,\n",
    "        \"channel__chi_index\",\n",
    "        grid_units=(\"m\", \"m\"),\n",
    "        var_name=\"Chi index (m)\",\n",
    "        cmap=\"jet\",\n",
    "    )\n",
    "    title_text = f'$K_{{sp}}$={params[\"K_sp\"]}; $U$={params[\"uplift_rate\"]} m/yr; $time$={params[\"timer\"]/1000} kyr; concavity={params[\"m_sp\"]/params[\"n_sp\"]}'\n",
    "    plt.title(title_text)\n",
    "\n",
    "def plot_steepness(channel_profiler):\n",
    "    sf.calculate_steepnesses()\n",
    "\n",
    "    plt.figure()\n",
    "\n",
    "    for i, outlet_id in enumerate(channel_profiler.data_structure):\n",
    "        for j, segment_id in enumerate(channel_profiler.data_structure[outlet_id]):\n",
    "            if j == 0:\n",
    "                label = \"channel {i}\".format(i=i + 1)\n",
    "            else:\n",
    "                label = '_nolegend_'\n",
    "            segment = channel_profiler.data_structure[outlet_id][segment_id]\n",
    "            profile_ids = segment[\"ids\"]\n",
    "            distance_upstream = segment[\"distances\"]\n",
    "            color = segment[\"color\"]\n",
    "            plt.plot(\n",
    "                distance_upstream,\n",
    "                raster.at_node[\"channel__steepness_index\"][profile_ids],\n",
    "                'x',\n",
    "                color=color,\n",
    "                label=label,\n",
    "            )\n",
    "\n",
    "    ax=plt.gca()\n",
    "    ax.invert_xaxis()\n",
    "    plt.xlabel(\"distance upstream (m)\")\n",
    "    plt.ylabel(\"steepness index\")\n",
    "    plt.legend(loc=\"upper right\")\n",
    "    plt.title(f'$K_{{sp}}$={params[\"K_sp\"]}; $U$={params[\"uplift_rate\"]*1000} mm/yr; $time$={params[\"timer\"]/1000} kyr; concavity={params[\"m_sp\"]/params[\"n_sp\"]}')\n",
    "\n",
    "    # channel steepness map\n",
    "    plt.figure()\n",
    "    imshow_grid(\n",
    "        raster,\n",
    "        \"channel__steepness_index\",\n",
    "        grid_units=(\"m\", \"m\"),\n",
    "        var_name=\"Steepness index \",\n",
    "        cmap=\"jet\",\n",
    "    )\n",
    "    plt.title(f'$K_{{sp}}$={params[\"K_sp\"]}; $U$={params[\"uplift_rate\"]*1000} mm/yr; $time$={params[\"timer\"]/1000} kyr; concavity={params[\"m_sp\"]/params[\"n_sp\"]}')"
   ]
  },
  {
   "cell_type": "code",
   "execution_count": null,
   "metadata": {},
   "outputs": [],
   "source": [
    "evolve()\n",
    "plot_topography()"
   ]
  },
  {
   "cell_type": "code",
   "execution_count": null,
   "metadata": {
    "scrolled": true
   },
   "outputs": [],
   "source": [
    "prf = channel_profiler()\n",
    "prf.run_one_step()\n",
    "plot_profiles(prf)"
   ]
  },
  {
   "cell_type": "code",
   "execution_count": null,
   "metadata": {},
   "outputs": [],
   "source": [
    "plot_chi(prf)"
   ]
  },
  {
   "cell_type": "code",
   "execution_count": null,
   "metadata": {},
   "outputs": [],
   "source": [
    "plot_steepness(prf)"
   ]
  },
  {
   "attachments": {},
   "cell_type": "markdown",
   "metadata": {},
   "source": [
    "#### 1. **Steady state with low rock uplift rate.** \n",
    "Using the parameters provided in the initial notebook, run the landscape to steady state. How did you decide that the landscape reached steady state? [These landscapes may not reach a perfect steady state. Close is fine.] Include appropriate plots. \n"
   ]
  },
  {
   "attachments": {},
   "cell_type": "markdown",
   "metadata": {},
   "source": [
    "#### 2. **Steady-state landscape with higher rock uplift rate.**\n",
    "\n",
    "Now increase rock uplift uniformly by a factor of 2 to 0.0002 m/yr. Rerun the entire notebook, and continue to run the main evolution loop until the landscape reaches steady state. Provide a plot that illustrates that the landscape is in steady state. What aspects of the landscape have changed in comparison with the base landscape from question 1?"
   ]
  },
  {
   "attachments": {},
   "cell_type": "markdown",
   "metadata": {},
   "source": [
    "#### 3. **Increase erodibility.** \n",
    "\n",
    "Now increase $K_{sp}$ to 2E-5. Make sure rock uplift rate is set to the original value of 0.0001 m/yr. Rerun the entire notebook, and continue to run the main evolution loop until the landscape reaches steady state. Compare this landscape with the one produced in the first question. What, if anything, has changed? "
   ]
  },
  {
   "attachments": {},
   "cell_type": "markdown",
   "metadata": {},
   "source": [
    "#### 4. **General Reflection**\n",
    "\n",
    "In 4 sentences or less, describe how the steady-state landscape form changes with rock uplift rate? What metrics could you measure in the landscape that would illustrate higher rock uplift rate? In 4 sentences or less, describe how the steady-state landscape form changes with erodibility? What metrics could you measure in different landscapes that would illustrate they have different erodibilities? What might lead to different erodibilities in different landscapes?"
   ]
  },
  {
   "attachments": {},
   "cell_type": "markdown",
   "metadata": {},
   "source": [
    "#### 5. **Final Reflection**\n",
    "\n",
    "Was your initial insight into how parameters would affect the landscape correct? Discuss in 6 sentences or less."
   ]
  }
 ],
 "metadata": {
  "anaconda-cloud": {},
  "kernelspec": {
   "display_name": "landlab_dev",
   "language": "python",
   "name": "landlab_dev"
  },
  "language_info": {
   "codemirror_mode": {
    "name": "ipython",
    "version": 3
   },
   "file_extension": ".py",
   "mimetype": "text/x-python",
   "name": "python",
   "nbconvert_exporter": "python",
   "pygments_lexer": "ipython3",
   "version": "3.10.5"
  }
 },
 "nbformat": 4,
 "nbformat_minor": 4
}
