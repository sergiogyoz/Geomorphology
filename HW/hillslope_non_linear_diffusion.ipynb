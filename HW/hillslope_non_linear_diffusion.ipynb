{
 "cells": [
  {
   "attachments": {},
   "cell_type": "markdown",
   "metadata": {},
   "source": [
    "# Linear diffusion HW"
   ]
  },
  {
   "attachments": {},
   "cell_type": "markdown",
   "metadata": {},
   "source": [
    "Same imports from the main file "
   ]
  },
  {
   "cell_type": "code",
   "execution_count": null,
   "metadata": {},
   "outputs": [],
   "source": [
    "# imports\n",
    "import numpy as np\n",
    "from matplotlib.pyplot import figure, legend, plot, show, title, xlabel, ylabel, ylim, xlim\n",
    "import matplotlib.pyplot as plt\n",
    "import copy\n",
    "\n",
    "from landlab.plot.imshow import imshow_grid\n",
    "from landlab import RasterModelGrid \n",
    "from landlab.components import LinearDiffuser\n",
    "from landlab.components import TaylorNonLinearDiffuser\n",
    "from landlab.components import FlowAccumulator"
   ]
  },
  {
   "attachments": {},
   "cell_type": "markdown",
   "metadata": {},
   "source": [
    "## 1. \n",
    "\n",
    "From your experience with the linear diffusion model, you now know that if diffusivity is fixed, then a hillslope becomes steeper if the uplift/erosion rate is increased or the diffusivity is decreased. \n",
    "\n",
    "Run a few model cases to illustrate the same behavior holds at steady state using the nonlinear diffusion model. Describe the model sensitivity to erosion rate and diffusivity using plots and text."
   ]
  },
  {
   "cell_type": "code",
   "execution_count": 38,
   "metadata": {},
   "outputs": [],
   "source": [
    "mg = RasterModelGrid((41, 5), 5.0)\n",
    "z_vals = mg.add_zeros(\"topographic__elevation\", at=\"node\")\n",
    "\n",
    "# initialize some values for plotting\n",
    "ycoord_rast = mg.node_vector_to_raster(mg.node_y)\n",
    "ys_grid = ycoord_rast[:, 2]\n",
    "\n",
    "# open upper and lower boundary condition, closed on the sides\n",
    "mg.set_closed_boundaries_at_grid_edges(True, False, True, False)"
   ]
  },
  {
   "attachments": {},
   "cell_type": "markdown",
   "metadata": {},
   "source": [
    "now comes the parameters to be set"
   ]
  },
  {
   "cell_type": "code",
   "execution_count": null,
   "metadata": {},
   "outputs": [],
   "source": [
    "D = 0.01\n",
    "uplift_rate = 0.0001\n",
    "Sc = 0.5 # critical slope value, units of m/m\n",
    "nonlin_diffuse = TaylorNonLinearDiffuser(\n",
    "    mg, linear_diffusivity=D, slope_crit=Sc, dynamic_dt=True)\n",
    "\n",
    "lin_diffuse = LinearDiffuser(mg, linear_diffusivity=D)\n",
    "runtime = 1000000 \n",
    "dt = 0.5 * mg.dx * mg.dx / D\n",
    "nt = int(runtime // dt)\n",
    "time_counter = 0\n",
    "uplift_per_step = uplift_rate * dt\n",
    "ys = np.arange(mg.number_of_node_rows * mg.dx - mg.dx)"
   ]
  },
  {
   "attachments": {},
   "cell_type": "markdown",
   "metadata": {},
   "source": [
    "steady state topography calculations of the linear diffusser as in class"
   ]
  },
  {
   "cell_type": "code",
   "execution_count": 40,
   "metadata": {},
   "outputs": [],
   "source": [
    "# location of divide or ridge crest -> middle of grid\n",
    "divide_loc = (mg.number_of_node_rows * mg.dx - mg.dx) / 2\n",
    "# half-width of the ridge\n",
    "half_width = (mg.number_of_node_rows * mg.dx - mg.dx) / 2\n",
    "# analytical solution for elevation under linear diffusion at steady state\n",
    "zs = (uplift_rate / (2 * D)) * (np.power(half_width, 2) - np.power(ys - divide_loc, 2))"
   ]
  },
  {
   "attachments": {},
   "cell_type": "markdown",
   "metadata": {},
   "source": [
    "a little aux plot function to make things more readable and compact"
   ]
  },
  {
   "cell_type": "code",
   "execution_count": 37,
   "metadata": {},
   "outputs": [],
   "source": [
    "def short_plot(elev_rast, **kwargs):\n",
    "    \"\"\"\n",
    "    It plots the analytical solution stored in ys and zs.\n",
    "    The input is a landlab raster grid model.\n",
    "\n",
    "    **kwargs include:\n",
    "    - title: string\n",
    "        Title of the chart\n",
    "    - percent: bool\n",
    "        Misleadingly, if passed anything it will show the\n",
    "        50% and 75% of the analytical solution. Don't pass an\n",
    "        argument if you don't want it to show.\n",
    "    - legend_loc: string\n",
    "        A string argument to position the legend. See matplotlib\n",
    "        legend() for documentation\n",
    "    - show_analitical: bool\n",
    "        Show the analitical solution of the linear diffuser\n",
    "    \"\"\"\n",
    "    plot(ys_grid, elev_rast[:, 2], \"r-\", label=\"current model topography\")\n",
    "    if \"show_analitical\" in kwargs:\n",
    "        if kwargs[\"show_analitical\"]:\n",
    "            plot(ys, zs, \"k--\", label=\"analytical solution\")\n",
    "    if \"title\" in kwargs:\n",
    "        title(kwargs[\"title\"])\n",
    "    xlabel(\"horizontal distance (m)\")\n",
    "    ylabel(\"vertical distance (m)\")\n",
    "    if \"percent\" in kwargs:\n",
    "        plot(ys, zs * 0.75, \"b--\", label=\"75% of analytical solution\")\n",
    "        plot(ys, zs * 0.5, \"k--\", label=\"50% of analytical solution\")\n",
    "    if \"legend_loc\" in kwargs:\n",
    "        legend(loc=kwargs[\"legend_loc\"])\n",
    "    else:\n",
    "        legend()\n",
    "    show()\n",
    "\n",
    "\n",
    "def short_subplot(elev_rast1, elev_rast2, **kwargs):\n",
    "    \"\"\"\n",
    "    It plots the analytical solution stored in ys and zs.\n",
    "    The input is a landlab raster grid model.\n",
    "\n",
    "    **kwargs include:\n",
    "    - title: string\n",
    "        Title of the chart\n",
    "    - legend_loc: string\n",
    "        A string argument to position the legend. See matplotlib\n",
    "        legend() for documentation\n",
    "    - label1: string\n",
    "        legend label 1\n",
    "    - label2: string\n",
    "        legend label 2  \n",
    "    - show_analitical: bool\n",
    "        Show the analitical solution of the linear diffuser\n",
    "    \"\"\"\n",
    "    fig, axs = plt.subplots(2, sharex=True)\n",
    "    label_1 = \"half time solution\"\n",
    "    label_2 = \"current solution\"\n",
    "    if \"label1\" in kwargs:\n",
    "        label_1=kwargs[\"label1\"]\n",
    "    if \"label2\" in kwargs:\n",
    "        label_1=kwargs[\"label2\"]\n",
    "    axs[0].plot(ys_grid, elev_rast1[:, 2], \"b-\", label=label_1)\n",
    "    axs[1].plot(ys_grid, elev_rast1[:, 2], \"r-\", label=label_2)\n",
    "    if \"show_analitical\" in kwargs:\n",
    "        if kwargs[\"show_analitical\"]:\n",
    "            axs[0].plot(ys, zs, \"k--\", label=\"analytical solution\")\n",
    "            axs[1].plot(ys, zs, \"k--\", label=\"analytical solution\")\n",
    "    if \"title\" in kwargs:\n",
    "        plt.suptitle(kwargs[\"title\"])\n",
    "    axs[1].set(xlabel=\"horizontal distance (m)\")\n",
    "    axs[0].set(ylabel=\"elevation (m)\")\n",
    "    axs[1].set(ylabel=\"elevation (m)\")\n",
    "    if \"legend_loc\" in kwargs:\n",
    "        legend(loc=kwargs[\"legend_loc\"])\n",
    "    else:\n",
    "        legend()\n",
    "    show()"
   ]
  },
  {
   "attachments": {},
   "cell_type": "markdown",
   "metadata": {},
   "source": [
    "initial topography"
   ]
  },
  {
   "cell_type": "code",
   "execution_count": 41,
   "metadata": {},
   "outputs": [
    {
     "data": {
      "image/png": "[encoded data removed]",
      "text/plain": [
       "<Figure size 432x288 with 2 Axes>"
      ]
     },
     "metadata": {
      "needs_background": "light"
     },
     "output_type": "display_data"
    }
   ],
   "source": [
    "figure(1)\n",
    "imshow_grid(mg, \"topographic__elevation\")\n",
    "title(\"initial topography\")\n",
    "show()"
   ]
  },
  {
   "attachments": {},
   "cell_type": "markdown",
   "metadata": {},
   "source": [
    "Now let's plot multiple scenarios for uplift and diffusion"
   ]
  },
  {
   "cell_type": "code",
   "execution_count": null,
   "metadata": {},
   "outputs": [],
   "source": [
    "Ds = [0.1, 0.01, 0.001]\n",
    "uplift_rates = [0.00001,0.0001, 0.0005, 0.001]\n",
    "Sc = 0.5\n",
    "for D in Ds:\n",
    "    for uplift_rate in uplift_rates:\n",
    "        uplift_per_step = uplift_rate * dt \n",
    "        # plot initial topography\n",
    "        figure()\n",
    "        elev_rast = mg.node_vector_to_raster(mg.at_node[\"topographic__elevation\"])\n",
    "        short_plot(\n",
    "            elev_rast, \n",
    "            title =\"initial topographic cross section\")\n",
    "        # run non linear diff half time and final solution\n",
    "        rast1 = 0\n",
    "        rast2 = 0\n",
    "        for i in range(nt):\n",
    "            mg[\"node\"][\"topographic__elevation\"][mg.core_nodes] += uplift_per_step\n",
    "            nonlin_diffuse.run_one_step(dt) # change the diffuser\n",
    "            time_counter += dt\n",
    "            if i == int(nt // 2):\n",
    "                rast1 = mg.node_vector_to_raster(mg.at_node[\"topographic__elevation\"])\n",
    "        rast2 = mg.node_vector_to_raster(mg.at_node[\"topographic__elevation\"])\n",
    "        # plot both solutions\n",
    "        short_subplot(\n",
    "            elev_rast1=rast1,\n",
    "            elev_rast2=rast2,\n",
    "            title=f\"topographic cross section at times {int(time_counter // 2)} and {time_counter}, with D = {D} and uplift = {uplift_rate}\",\n",
    "        )"
   ]
  },
  {
   "cell_type": "markdown",
   "metadata": {},
   "source": [
    "*Is the nonlinear model as sensitive to changes in these paramaters as the linear model? Make sure it is clear how you are making your assesment of what it means to be more or less sensitive.* \n",
    "\n",
    "- The total relief is approximately $45m$.\n"
   ]
  },
  {
   "attachments": {},
   "cell_type": "markdown",
   "metadata": {},
   "source": [
    "and now we use a flow router to find the slopes"
   ]
  },
  {
   "cell_type": "code",
   "execution_count": 45,
   "metadata": {},
   "outputs": [
    {
     "data": {
      "text/plain": [
       "Text(0.5, 1.0, 'slope of the hillslope at time 1000000.0, with D = 0.01')"
      ]
     },
     "execution_count": 45,
     "metadata": {},
     "output_type": "execute_result"
    },
    {
     "data": {
      "image/png": "[encoded data removed]",
      "text/plain": [
       "<Figure size 432x288 with 1 Axes>"
      ]
     },
     "metadata": {
      "needs_background": "light"
     },
     "output_type": "display_data"
    }
   ],
   "source": [
    "fr = FlowAccumulator(mg)\n",
    "fr.run_one_step()\n",
    "# plot slopes\n",
    "plot(\n",
    "    mg.node_y[mg.core_nodes],\n",
    "    mg.at_node[\"topographic__steepest_slope\"][mg.core_nodes],\n",
    "    \"k-\",\n",
    ")\n",
    "xlabel(\"horizontal distance (m)\")\n",
    "ylabel(\"topographic slope (m/m)\")\n",
    "title(f\"slope of the hillslope with S_c = {Sc}, and D = {D}\")"
   ]
  },
  {
   "attachments": {},
   "cell_type": "markdown",
   "metadata": {},
   "source": [
    "## 2.\n",
    "\n",
    "*How does changing $S_c$ impact hillslope form at steady state? Do some model runs to illustrate hillslope sensitivity to $S_c$.*"
   ]
  },
  {
   "attachments": {},
   "cell_type": "markdown",
   "metadata": {},
   "source": [
    "- According to the notebook the defining equations being considered are:\n",
    "\n",
    "    $$\n",
    "    q_s = -D \\left( 1 + \\Big( \\frac{S}{S_c} \\Big)^2 \\right)\n",
    "    $$\n",
    "\n",
    "    $$\n",
    "    \\frac{dz}{dt} = U-\\nabla q_s\n",
    "    $$\n",
    "\n",
    "    Notice how the $q_s$ is always positive and, in particular being a quadratic, it has smaller values the closer $\\frac{S}{S_c}$ to zero but also increasingly larger values the larger $\\frac{S}{S_c}$ is from one. This means that transport capacity pass the critical slope is greatly increasing forcing the slopes to go back to near/under critical slope.\n",
    "\n",
    "    If made into a one dimensional problem then the differential equation looks like\n",
    "\n",
    "    $$\n",
    "    \\frac{dz}{dt} = U-\\nabla q_s = U + \\frac{2D}{S_c} \\frac{S}{S_c}\\frac{d S}{dx}.\n",
    "    $$\n",
    "\n",
    "    The steady state solution can be solved from the separable equation\n",
    "\n",
    "    $$\n",
    "    -\\frac{U S_c^2}{2D} dx  =  S dS\n",
    "    $$\n",
    "\n",
    "    compacting the constants $C= \\frac{U S_c^2}{D}$ and integrating once to solve the separable equation we get\n",
    "\n",
    "    $$\n",
    "    c_1 - \\frac{C}{2} x  =  \\frac{S^2}{2}\n",
    "    $$\n",
    "\n",
    "    solving for $S$ and using the fact that $S=-\\frac{dz}{dx}$ we now need to solve\n",
    "\n",
    "    $$\n",
    "    \\frac{dz}{dx} = \\pm \\sqrt{c_1-Cx}\n",
    "    $$\n",
    "\n",
    "    which solves as\n",
    "\n",
    "    $$\n",
    "    z = c_2 \\pm \\frac{2}{3C}(c_1-Cx)^{3/2}\n",
    "    $$\n",
    "\n",
    "    or\n",
    "\n",
    "    $$\n",
    "    z = c_2 \\pm \\frac{2}{3}(c_1-\\sqrt[3]{C}x)^{3/2}\n",
    "    $$"
   ]
  },
  {
   "attachments": {},
   "cell_type": "markdown",
   "metadata": {},
   "source": [
    "From here we see that the topography relief increases and descreases with critical slope by roughly a factor of $\\sqrt{C}$. In a similar way, using the equation $ S = \\pm \\sqrt{c_1-Cx} $ we see that slopes will scale roughly by a factor of $\\sqrt{C}$.\n",
    "\n",
    "Now let's see some plots to confirm this."
   ]
  },
  {
   "attachments": {},
   "cell_type": "markdown",
   "metadata": {},
   "source": [
    "## 3. \n",
    "*If relief is defined as the difference between maximum and minimum elevation, do hillslopes evolved with the linear or nonlinear model have more relief? Compare hillslopes with the same $D$ value between the two models.*\n",
    "\n",
    "-"
   ]
  },
  {
   "attachments": {},
   "cell_type": "markdown",
   "metadata": {},
   "source": [
    "*Discuss how the hillslope differs from the results in question 1. Discuss how the results are similar to or different from your prediction in question 2. It is OK if your intuition was wrong! If you were wrong, can you see why from the equations after a second look?*\n",
    "\n",
    "- The new hillslope parabola has a coefficient that is a tenth of the original which maches in the graph with the model being on a scale of a tenth as well. \n",
    "\n",
    "- The results match my predictions, one thing that I was not expecting was the convergence being faster as the curves are closer even after considering the scale which I'm guessing has something to do with the numerical method used to solve it."
   ]
  },
  {
   "attachments": {},
   "cell_type": "markdown",
   "metadata": {},
   "source": [
    "## 4.\n",
    "On two hillslopes with different $S_c$, but the same erosion rate and $D$, explore the patterns of relief produced at steady state (Code Block 10). \n",
    "\n",
    "*How does the radius over which relief is calculated impact the patterns of relief you see across the hillslope?*\n",
    "- answer here\n"
   ]
  },
  {
   "attachments": {},
   "cell_type": "markdown",
   "metadata": {},
   "source": [
    "*Does the pattern change with the different values of $S_c$? Again, this is a very unconstrained question. Explore, describe what you find using full sentences and plots.*\n",
    "- answer here"
   ]
  },
  {
   "cell_type": "code",
   "execution_count": 50,
   "metadata": {},
   "outputs": [
    {
     "data": {
      "image/png": "[encoded data removed]",
      "text/plain": [
       "<Figure size 432x288 with 1 Axes>"
      ]
     },
     "metadata": {
      "needs_background": "light"
     },
     "output_type": "display_data"
    },
    {
     "data": {
      "image/png": "[encoded data removed]",
      "text/plain": [
       "<Figure size 432x288 with 1 Axes>"
      ]
     },
     "metadata": {
      "needs_background": "light"
     },
     "output_type": "display_data"
    }
   ],
   "source": [
    "mg = RasterModelGrid((41, 5), 5.0)\n",
    "z_vals = mg.add_zeros(\"topographic__elevation\", at=\"node\")\n",
    "mg.set_closed_boundaries_at_grid_edges(True, False, True, False)\n",
    "\n",
    "D = 0.01\n",
    "uplift_rate = 0.001\n",
    "lin_diffuse = LinearDiffuser(mg, linear_diffusivity=D)\n",
    "time_counter = 0\n",
    "uplift_per_step = uplift_rate * dt\n",
    "zs = (uplift_rate / (2 * D)) * (np.power(half_width, 2) - np.power(ys - divide_loc, 2))\n",
    "\n",
    "for i in range(nt):\n",
    "    mg[\"node\"][\"topographic__elevation\"][mg.core_nodes] += uplift_per_step\n",
    "    lin_diffuse.run_one_step(dt)\n",
    "    time_counter += dt\n",
    "\n",
    "figure(6)\n",
    "short_plot(\n",
    "    elev_rast=mg.node_vector_to_raster(mg.at_node[\"topographic__elevation\"]),\n",
    "    title=f\"topographic cross section at time {time_counter}, with D = {D} and U={uplift_rate}\"\n",
    ")\n",
    "\n",
    "figure(7)\n",
    "fr = FlowAccumulator(mg)\n",
    "fr.run_one_step()\n",
    "# plot slopes\n",
    "plot(\n",
    "    mg.node_y[mg.core_nodes],\n",
    "    mg.at_node[\"topographic__steepest_slope\"][mg.core_nodes],\n",
    "    \"k-\",\n",
    ")\n",
    "xlabel(\"horizontal distance (m)\")\n",
    "ylabel(\"topographic slope (m/m)\")\n",
    "title(f\"slope of the hillslope at time {time_counter}, with D = {D} and U={uplift_rate}\")\n",
    "show()"
   ]
  },
  {
   "attachments": {},
   "cell_type": "markdown",
   "metadata": {},
   "source": [
    "*Discuss how these results differ from the results in question 1 and how the results match (or do not) your intuition. It is OK if your intuition was wrong.*\n",
    "\n",
    "- The hillslope is 10 times larger than the original one as expected and the convergence looks about as good as in the first one. Slopes are also a magnitude of 10 larger."
   ]
  }
 ],
 "metadata": {
  "anaconda-cloud": {},
  "kernelspec": {
   "display_name": "landlab_dev",
   "language": "python",
   "name": "python3"
  },
  "language_info": {
   "codemirror_mode": {
    "name": "ipython",
    "version": 3
   },
   "file_extension": ".py",
   "mimetype": "text/x-python",
   "name": "python",
   "nbconvert_exporter": "python",
   "pygments_lexer": "ipython3",
   "version": "3.10.5"
  },
  "toc-autonumbering": true,
  "toc-showcode": false,
  "vscode": {
   "interpreter": {
    "hash": "f4724234ee333a7c64c553bb8a9c451b12cbf7110166dc056f546fce6cc06ec5"
   }
  }
 },
 "nbformat": 4,
 "nbformat_minor": 4
}
